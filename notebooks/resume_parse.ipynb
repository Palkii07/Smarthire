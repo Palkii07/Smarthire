{
 "cells": [
  {
   "cell_type": "code",
   "execution_count": 1,
   "id": "0a0bbf00",
   "metadata": {},
   "outputs": [],
   "source": [
    "from dotenv import load_dotenv\n",
    "load_dotenv()\n",
    "\n",
    "import os"
   ]
  },
  {
   "cell_type": "code",
   "execution_count": 2,
   "id": "7094bfa4",
   "metadata": {},
   "outputs": [],
   "source": [
    "from langchain_community.document_loaders import PyMuPDFLoader"
   ]
  },
  {
   "cell_type": "code",
   "execution_count": 8,
   "id": "402929b6",
   "metadata": {},
   "outputs": [],
   "source": [
    "filename = 'Palki_20252.pdf'\n",
    "loader = PyMuPDFLoader(f'../Resume/{filename}')\n",
    "\n",
    "documents = loader.load()"
   ]
  },
  {
   "cell_type": "code",
   "execution_count": 9,
   "id": "bbca2de1",
   "metadata": {},
   "outputs": [
    {
     "name": "stdout",
     "output_type": "stream",
     "text": [
      "Palki Sachdeva\n",
      "+91-9899100472 | sachdevapalki@gmail.com | linkedin.com/in/palki-sachdeva | github.com/Palkii07\n",
      "Education\n",
      "Deenbandhu Chhotu Ram University of Science and Technology\n",
      "Murthal, Haryana\n",
      "B.Tech in Computer Science and Engineering (Data Science)\n",
      "Dec 2021 – Jun 2025\n",
      "Amity International School\n",
      "Gurgaon, Haryana\n",
      "Senior Secondary Certificate – 97.6%\n",
      "Apr 2019 – May 2021\n",
      "Blue Bells Model School\n",
      "Gurgaon, Haryana\n",
      "Secondary Certificate – 97.8%\n",
      "Apr 2007 – May 2019\n",
      "Experience\n",
      "Data Science Intern, Daas Labs — Gurgaon, Sector 27\n",
      "Feb 2025 – May 2025\n",
      "• Worked with LangChain, Ollama, RAG pipelines, and Poetry to build data-driven workflows, including demand forecasting\n",
      "• Applied machine learning models to extract insights and identify patterns from complex datasets\n",
      "Data Scientist Intern, Cognifyz Technologies — Remote\n",
      "Jul 2024 – Aug 2024\n",
      "• Leveraged advanced data science techniques to uncover meaningful patterns and drive data-informed decision-making\n",
      "• Performed exploratory data analysis and implemented statistical models to optimize business outcomes\n",
      "React Developer Intern, ShopClues — Gurgaon\n",
      "Jul 2023 – Aug 2023\n",
      "• Built responsive and dynamic UI components using React for an e-commerce platform\n",
      "• Integrated user authentication, product listing, and cart management functionalities\n",
      "Projects\n",
      "Speak Ease | Python, Transformers, Flask, NLP\n",
      "• Developed an NLP-powered web application providing text summarization, text-to-speech conversion, language detection, and\n",
      "translation services\n",
      "• Integrated Transformer models for enhanced language processing capabilities with 90% accuracy\n",
      "Diamond Price Prediction | Python, Flask, MongoDB, ML\n",
      "• Built a machine learning application achieving 95% prediction accuracy for diamond pricing\n",
      "• Executed comprehensive data preprocessing techniques and feature engineering for predictive modeling, enhancing prediction\n",
      "accuracy by 25% while refining model evaluation metrics including R², MSE, MAE, and RMSE\n",
      "Background Removal System | Python, OpenCV, Computer Vision\n",
      "• Created a real-time background removal tool using computer vision techniques\n",
      "• Applied image segmentation algorithms to isolate foreground objects with 88% accuracy\n",
      "Skills\n",
      "Programming: Python, C/C++, SQL (MySQL), MongoDB, JavaScript, HTML/CSS\n",
      "Machine Learning: TensorFlow, PyTorch, Keras, Scikit-learn, Regression, Classification, Neural Networks\n",
      "Data Science: Pandas, NumPy, SciPy, Data Analysis, Statistical Modeling, Visualization (Matplotlib, Seaborn)\n",
      "Development: Flask, Git, React, REST APIs, Bootstrap, Streamlit, LangChain, Poetry\n",
      "AI/ML: NLP, Computer Vision, Deep Learning, NLTK, Transformers, OpenCV\n",
      "Soft Skills: Clear technical communication, Effective public speaking,Team collaboration,Analytical thinking\n",
      "Certifications\n",
      "• Data Science and Machine Learning Bootcamp (Udemy - Jose Portilla)\n",
      "• Complete Data Science, ML, DL, NLP Bootcamp (Udemy - Krish Naik)\n",
      "• Data Science and Python(Ducat-Sector 14,Gurgaon)\n",
      "Co-Curricular Activities\n",
      "• Technova 2022 - 2nd Position, Group Discussion Competition\n",
      "• Canvas Clash - 3rd Position, Painting Competition\n"
     ]
    }
   ],
   "source": [
    "print(documents[0].page_content)"
   ]
  },
  {
   "cell_type": "code",
   "execution_count": null,
   "id": "ac85a799",
   "metadata": {},
   "outputs": [],
   "source": [
    "context=documents[0].page_content\n"
   ]
  },
  {
   "cell_type": "code",
   "execution_count": null,
   "id": "3eb31ce3",
   "metadata": {},
   "outputs": [],
   "source": []
  },
  {
   "cell_type": "code",
   "execution_count": null,
   "id": "60ab49a2",
   "metadata": {},
   "outputs": [],
   "source": []
  },
  {
   "cell_type": "code",
   "execution_count": null,
   "id": "d1f3465d",
   "metadata": {},
   "outputs": [],
   "source": []
  },
  {
   "cell_type": "code",
   "execution_count": null,
   "id": "8d13c358",
   "metadata": {},
   "outputs": [],
   "source": []
  },
  {
   "cell_type": "code",
   "execution_count": null,
   "id": "1e9baa11",
   "metadata": {},
   "outputs": [],
   "source": []
  },
  {
   "cell_type": "code",
   "execution_count": null,
   "id": "40e49223",
   "metadata": {},
   "outputs": [],
   "source": []
  },
  {
   "cell_type": "code",
   "execution_count": null,
   "id": "586d6717",
   "metadata": {},
   "outputs": [],
   "source": []
  },
  {
   "cell_type": "code",
   "execution_count": null,
   "id": "2c59cdde",
   "metadata": {},
   "outputs": [],
   "source": []
  },
  {
   "cell_type": "code",
   "execution_count": null,
   "id": "f39bc14b",
   "metadata": {},
   "outputs": [],
   "source": []
  },
  {
   "cell_type": "code",
   "execution_count": null,
   "id": "746b6dc4",
   "metadata": {},
   "outputs": [],
   "source": []
  },
  {
   "cell_type": "code",
   "execution_count": null,
   "id": "a8d310b8",
   "metadata": {},
   "outputs": [],
   "source": []
  },
  {
   "cell_type": "code",
   "execution_count": null,
   "id": "bef85878",
   "metadata": {},
   "outputs": [],
   "source": []
  },
  {
   "cell_type": "code",
   "execution_count": null,
   "id": "f46617e1",
   "metadata": {},
   "outputs": [],
   "source": []
  },
  {
   "cell_type": "code",
   "execution_count": null,
   "id": "9149c1e6",
   "metadata": {},
   "outputs": [],
   "source": []
  },
  {
   "cell_type": "code",
   "execution_count": null,
   "id": "7c1973fc",
   "metadata": {},
   "outputs": [],
   "source": []
  },
  {
   "cell_type": "code",
   "execution_count": null,
   "id": "3572c7c5",
   "metadata": {},
   "outputs": [],
   "source": []
  },
  {
   "cell_type": "code",
   "execution_count": null,
   "id": "1301af77",
   "metadata": {},
   "outputs": [],
   "source": []
  },
  {
   "cell_type": "code",
   "execution_count": null,
   "id": "ce4d7941",
   "metadata": {},
   "outputs": [],
   "source": []
  },
  {
   "cell_type": "code",
   "execution_count": null,
   "id": "0361804d",
   "metadata": {},
   "outputs": [],
   "source": []
  },
  {
   "cell_type": "code",
   "execution_count": null,
   "id": "2e4b2472",
   "metadata": {},
   "outputs": [],
   "source": []
  }
 ],
 "metadata": {
  "kernelspec": {
   "display_name": "venv",
   "language": "python",
   "name": "python3"
  },
  "language_info": {
   "codemirror_mode": {
    "name": "ipython",
    "version": 3
   },
   "file_extension": ".py",
   "mimetype": "text/x-python",
   "name": "python",
   "nbconvert_exporter": "python",
   "pygments_lexer": "ipython3",
   "version": "3.11.0"
  }
 },
 "nbformat": 4,
 "nbformat_minor": 5
}
